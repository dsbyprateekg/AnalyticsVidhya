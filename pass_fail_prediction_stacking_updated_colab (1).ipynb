{
  "nbformat": 4,
  "nbformat_minor": 0,
  "metadata": {
    "colab": {
      "name": "pass_fail_prediction_stacking_updated_colab.ipynb",
      "provenance": [],
      "collapsed_sections": []
    },
    "kernelspec": {
      "name": "python3",
      "display_name": "Python 3"
    },
    "accelerator": "GPU"
  },
  "cells": [
    {
      "cell_type": "code",
      "metadata": {
        "id": "FLM95upEY04b",
        "colab_type": "code",
        "outputId": "0c0b7df9-016a-416d-bf8f-3c357a496289",
        "colab": {
          "base_uri": "https://localhost:8080/",
          "height": 121
        }
      },
      "source": [
        "from google.colab import drive\n",
        "drive.mount('/content/gdrive')"
      ],
      "execution_count": 1,
      "outputs": [
        {
          "output_type": "stream",
          "text": [
            "Go to this URL in a browser: https://accounts.google.com/o/oauth2/auth?client_id=947318989803-6bn6qk8qdgf4n4g3pfee6491hc0brc4i.apps.googleusercontent.com&redirect_uri=urn%3aietf%3awg%3aoauth%3a2.0%3aoob&response_type=code&scope=email%20https%3a%2f%2fwww.googleapis.com%2fauth%2fdocs.test%20https%3a%2f%2fwww.googleapis.com%2fauth%2fdrive%20https%3a%2f%2fwww.googleapis.com%2fauth%2fdrive.photos.readonly%20https%3a%2f%2fwww.googleapis.com%2fauth%2fpeopleapi.readonly\n",
            "\n",
            "Enter your authorization code:\n",
            "··········\n",
            "Mounted at /content/gdrive\n"
          ],
          "name": "stdout"
        }
      ]
    },
    {
      "cell_type": "code",
      "metadata": {
        "id": "VUHxxXggZRBM",
        "colab_type": "code",
        "colab": {}
      },
      "source": [
        "!unzip -q '/content/gdrive/My Drive/HackerEarth/pass_fail.zip'"
      ],
      "execution_count": 0,
      "outputs": []
    },
    {
      "cell_type": "code",
      "metadata": {
        "id": "rQaze4DfZCKy",
        "colab_type": "code",
        "colab": {}
      },
      "source": [
        "import pandas as pd\n",
        "import numpy as np\n",
        "train = pd.read_csv('/content/pass_fail/train_HK6lq50.csv')\n",
        "test = pd.read_csv('/content/pass_fail/test_wF0Ps6O.csv')"
      ],
      "execution_count": 0,
      "outputs": []
    },
    {
      "cell_type": "code",
      "metadata": {
        "id": "LoANqkLeZOGw",
        "colab_type": "code",
        "colab": {}
      },
      "source": [
        "from sklearn.preprocessing import LabelEncoder\n",
        "from sklearn.model_selection import KFold\n",
        "from sklearn.linear_model import LogisticRegression"
      ],
      "execution_count": 0,
      "outputs": []
    },
    {
      "cell_type": "code",
      "metadata": {
        "id": "KEXloSm9aKfM",
        "colab_type": "code",
        "outputId": "d6fc05b4-885d-44ca-fa3c-dbeb6f72ac93",
        "colab": {
          "base_uri": "https://localhost:8080/",
          "height": 319
        }
      },
      "source": [
        "!pip install catboost"
      ],
      "execution_count": 5,
      "outputs": [
        {
          "output_type": "stream",
          "text": [
            "Collecting catboost\n",
            "\u001b[?25l  Downloading https://files.pythonhosted.org/packages/b1/61/2b8106c8870601671d99ca94d8b8d180f2b740b7cdb95c930147508abcf9/catboost-0.23-cp36-none-manylinux1_x86_64.whl (64.7MB)\n",
            "\u001b[K     |████████████████████████████████| 64.8MB 68kB/s \n",
            "\u001b[?25hRequirement already satisfied: pandas>=0.24.0 in /usr/local/lib/python3.6/dist-packages (from catboost) (1.0.3)\n",
            "Requirement already satisfied: matplotlib in /usr/local/lib/python3.6/dist-packages (from catboost) (3.2.1)\n",
            "Requirement already satisfied: scipy in /usr/local/lib/python3.6/dist-packages (from catboost) (1.4.1)\n",
            "Requirement already satisfied: six in /usr/local/lib/python3.6/dist-packages (from catboost) (1.12.0)\n",
            "Requirement already satisfied: numpy>=1.16.0 in /usr/local/lib/python3.6/dist-packages (from catboost) (1.18.3)\n",
            "Requirement already satisfied: graphviz in /usr/local/lib/python3.6/dist-packages (from catboost) (0.10.1)\n",
            "Requirement already satisfied: plotly in /usr/local/lib/python3.6/dist-packages (from catboost) (4.4.1)\n",
            "Requirement already satisfied: python-dateutil>=2.6.1 in /usr/local/lib/python3.6/dist-packages (from pandas>=0.24.0->catboost) (2.8.1)\n",
            "Requirement already satisfied: pytz>=2017.2 in /usr/local/lib/python3.6/dist-packages (from pandas>=0.24.0->catboost) (2018.9)\n",
            "Requirement already satisfied: kiwisolver>=1.0.1 in /usr/local/lib/python3.6/dist-packages (from matplotlib->catboost) (1.2.0)\n",
            "Requirement already satisfied: cycler>=0.10 in /usr/local/lib/python3.6/dist-packages (from matplotlib->catboost) (0.10.0)\n",
            "Requirement already satisfied: pyparsing!=2.0.4,!=2.1.2,!=2.1.6,>=2.0.1 in /usr/local/lib/python3.6/dist-packages (from matplotlib->catboost) (2.4.7)\n",
            "Requirement already satisfied: retrying>=1.3.3 in /usr/local/lib/python3.6/dist-packages (from plotly->catboost) (1.3.3)\n",
            "Installing collected packages: catboost\n",
            "Successfully installed catboost-0.23\n"
          ],
          "name": "stdout"
        }
      ]
    },
    {
      "cell_type": "code",
      "metadata": {
        "id": "lWP_LLVdZxtK",
        "colab_type": "code",
        "colab": {}
      },
      "source": [
        "from catboost import CatBoostClassifier, Pool, cv"
      ],
      "execution_count": 0,
      "outputs": []
    },
    {
      "cell_type": "code",
      "metadata": {
        "id": "QP4AMhbpWnjP",
        "colab_type": "code",
        "colab": {}
      },
      "source": [
        "import datetime\n",
        "from dateutil.relativedelta import relativedelta"
      ],
      "execution_count": 0,
      "outputs": []
    },
    {
      "cell_type": "code",
      "metadata": {
        "id": "ZThCA-CSedy2",
        "colab_type": "code",
        "outputId": "6bac5ced-d40b-48c5-c9b6-2508d8424d32",
        "colab": {
          "base_uri": "https://localhost:8080/",
          "height": 521
        }
      },
      "source": [
        "#A function for easily LabelEncoding the columns of a dataframe\n",
        "def label_encode_df(dataframe,cols):\n",
        "    for col in cols:\n",
        "        le=LabelEncoder()\n",
        "        dataframe[col]=le.fit_transform(dataframe[col])\n",
        "\n",
        "#Making folds for stacking\n",
        "train[\"fold\"]=0\n",
        "i=1\n",
        "for tr,ts in KFold(n_splits=5,shuffle=True,random_state=5).split(train):\n",
        "    train.loc[list(ts),\"fold\"]=i\n",
        "    i=i+1\n",
        "\n",
        "#Combing train and test, and Label Encoding\n",
        "comb=pd.concat([train,test],axis=0)\n",
        "comb.loc[comb.trainee_engagement_rating.isna(),\"trainee_engagement_rating\"]=3\n",
        "comb.loc[comb.age.isna(),\"age\"]=comb['age'].median()\n",
        "# replace outliar from age column\n",
        "comb['age'] = comb['age'].replace(comb['age'].max(),comb['age'].median())\n",
        "\n",
        "# # feature extraction- creating new columns from days\n",
        "# m=[]\n",
        "# d=[]\n",
        "# for i,row in comb.iterrows():\n",
        "#     now = datetime.datetime.now()\n",
        "#     td = datetime.timedelta(days=row['program_duration'])\n",
        "#     five_hundred_days_ago = now - td\n",
        "#     rl = relativedelta(now, five_hundred_days_ago)\n",
        "#     m.append(rl.months)\n",
        "#     d.append(rl.days)\n",
        "# comb['month']=m\n",
        "# comb['day']=d\n",
        "\n",
        "comb.reset_index(inplace=True,drop=True)\n",
        "#comb.info()\n",
        "\n",
        "categorical_features_indices = np.where(comb.dtypes != np.float)[0]\n",
        "#categorical_features_indices=[ 0  1  2  3  4  5  6  7  8  9 10 12 13 17 18]\n",
        "# ['id', 'program_id', 'program_type', 'program_duration', 'test_id',\n",
        "#        'test_type', 'difficulty_level', 'trainee_id', 'gender', 'education',\n",
        "#        'city_tier', 'age', 'total_programs_enrolled', 'is_handicapped',\n",
        "#        'trainee_engagement_rating', 'is_pass', 'fold', 'month', 'day']\n",
        "\n",
        "cat_encoded_features=['city_tier', 'difficulty_level', 'education', 'gender',\n",
        "       'is_handicapped', 'program_id','trainee_id',\"test_id\",\n",
        "       'program_type', 'test_type']\n",
        "\n",
        "comb_encoded=comb.copy()\n",
        "#print(comb_encoded.columns)\n",
        "#print(comb_encoded.info())\n",
        "label_encode_df(comb_encoded,cat_encoded_features)\n",
        "#print(\"after label encode function\")\n",
        "\n",
        "#Stacking different models (Catboost Models with different seeds)\n",
        "stack=pd.DataFrame()\n",
        "stack[\"id\"]=train.id\n",
        "stack[\"fold\"]=train.fold\n",
        "stack[\"is_pass\"]=train.is_pass\n",
        "model1={\"model_name\" : \"model1\", \"n_estimators\":2746,\"model_vars\" :['id', 'program_id', 'program_type', 'program_duration', 'test_id',\n",
        "       'test_type', 'difficulty_level', 'trainee_id', 'gender', 'education',\n",
        "       'city_tier', 'age', 'total_programs_enrolled', 'is_handicapped',\n",
        "       'trainee_engagement_rating'],\"cat_vars\" :10,\"seed\" :3}\n",
        "model2={\"model_name\" : \"model2\", \"n_estimators\":2746,\"model_vars\" :['id', 'program_id', 'program_type', 'program_duration', 'test_id',\n",
        "       'test_type', 'difficulty_level', 'trainee_id', 'gender', 'education',\n",
        "       'city_tier', 'age', 'total_programs_enrolled', 'is_handicapped',\n",
        "       'trainee_engagement_rating'],\"cat_vars\" :10,\"seed\":12}\n",
        "model3={\"model_name\" : \"model3\", \"n_estimators\":2746,\"model_vars\" :['id', 'program_id', 'program_type', 'program_duration', 'test_id',\n",
        "       'test_type', 'difficulty_level', 'trainee_id', 'gender', 'education',\n",
        "       'city_tier', 'age', 'total_programs_enrolled', 'is_handicapped',\n",
        "       'trainee_engagement_rating'],\"cat_vars\" :10, \"seed\":30}\n",
        "model4={\"model_name\" : \"model4\", \"n_estimators\":2746,\"model_vars\" :['id', 'program_id', 'program_type', 'program_duration', 'test_id',\n",
        "       'test_type', 'difficulty_level', 'trainee_id', 'gender', 'education',\n",
        "       'city_tier', 'age', 'total_programs_enrolled', 'is_handicapped',\n",
        "       'trainee_engagement_rating'],\"cat_vars\" :10, \"seed\":66}\n",
        "model5={\"model_name\" : \"model5\", \"n_estimators\":2746,\"model_vars\" :['id', 'program_id', 'program_type', 'program_duration', 'test_id',\n",
        "       'test_type', 'difficulty_level', 'trainee_id', 'gender', 'education',\n",
        "       'city_tier', 'age', 'total_programs_enrolled', 'is_handicapped',\n",
        "       'trainee_engagement_rating'],\"cat_vars\" :10, \"seed\":72}\n",
        "models=[model1,model2,model3,model4,model5]\n",
        "\n",
        "#Running the models on 4 folds and predicting on the 5th\n",
        "#print(\"before for loop\")\n",
        "for model in models:\n",
        "    stack[model[\"model_name\"]]=0\n",
        "    for i in range(1,6):\n",
        "        print(model[\"model_name\"])\n",
        "        comb_encoded[\"dataset\"]=\"train\"\n",
        "        len_train=73147\n",
        "        comb_encoded.loc[73147:,\"dataset\"]=\"test\"\n",
        "        comb_encoded.loc[comb_encoded.fold==i,\"dataset\"]=\"valid\"\n",
        "        y=comb_encoded.loc[comb_encoded.dataset==\"train\",\"is_pass\"].values\n",
        "        y_test=comb_encoded.loc[comb_encoded.dataset==\"valid\",\"is_pass\"].values\n",
        "        x=comb_encoded.loc[comb_encoded.dataset==\"train\",model[\"model_vars\"]].values\n",
        "        x_test=comb_encoded.loc[comb_encoded.dataset==\"valid\",model[\"model_vars\"]].values\n",
        "        cat_model=CatBoostClassifier(eval_metric=\"AUC\",n_estimators=model[\"n_estimators\"],random_state=model[\"seed\"])\n",
        "        cat_model.fit(x,y,cat_features=list(range(0,model[\"cat_vars\"])),verbose=False)\n",
        "        stack.loc[stack.fold==i,model[\"model_name\"]]=cat_model.predict_proba(comb_encoded.loc[comb_encoded.dataset==\"valid\",model[\"model_vars\"]].values)[:,1]\n",
        "\n",
        "#Running the base models and the whole train set and predicitng for test set\n",
        "stack_test=pd.DataFrame()\n",
        "stack_test[\"id\"]=test.id\n",
        "for model in models:\n",
        "    stack_test[model[\"model_name\"]]=0\n",
        "    print(model[\"model_name\"])\n",
        "    comb_encoded[\"dataset\"]=\"train\"\n",
        "    len_train=73147\n",
        "    comb_encoded.loc[73147:,\"dataset\"]=\"test\"\n",
        "    #comb_encoded.loc[comb_encoded.fold==i,\"dataset\"]=\"valid\"\n",
        "    y=comb_encoded.loc[comb_encoded.dataset==\"train\",\"is_pass\"].values\n",
        "    #y_test=comb_encoded.loc[comb_encoded.dataset==\"valid\",\"is_pass\"].values\n",
        "    x=comb_encoded.loc[comb_encoded.dataset==\"train\",model[\"model_vars\"]].values\n",
        "    #x_test=comb_encoded.loc[comb_encoded.dataset==\"valid\",model[\"model_vars\"]].values\n",
        "    cat_model=CatBoostClassifier(eval_metric=\"AUC\",n_estimators=model[\"n_estimators\"],random_state=model[\"seed\"])\n",
        "    cat_model.fit(x,y,cat_features=list(range(0,model[\"cat_vars\"])),verbose=False)\n",
        "    stack_test[model[\"model_name\"]]=cat_model.predict_proba(comb_encoded.loc[comb_encoded.dataset==\"test\",model[\"model_vars\"]].values)[:,1]\n"
      ],
      "execution_count": 8,
      "outputs": [
        {
          "output_type": "stream",
          "text": [
            "model1\n",
            "model1\n",
            "model1\n",
            "model1\n",
            "model1\n",
            "model2\n",
            "model2\n",
            "model2\n",
            "model2\n",
            "model2\n",
            "model3\n",
            "model3\n",
            "model3\n",
            "model3\n",
            "model3\n",
            "model4\n",
            "model4\n",
            "model4\n",
            "model4\n",
            "model4\n",
            "model5\n",
            "model5\n",
            "model5\n",
            "model5\n",
            "model5\n",
            "model1\n",
            "model2\n",
            "model3\n",
            "model4\n",
            "model5\n"
          ],
          "name": "stdout"
        }
      ]
    },
    {
      "cell_type": "code",
      "metadata": {
        "id": "A71MTzwCiobl",
        "colab_type": "code",
        "colab": {}
      },
      "source": [
        "# import lightgbm as lgb"
      ],
      "execution_count": 0,
      "outputs": []
    },
    {
      "cell_type": "code",
      "metadata": {
        "id": "vlHO6wWPkYfg",
        "colab_type": "code",
        "colab": {}
      },
      "source": [
        "# parameters = {\n",
        "#     'application': 'binary',\n",
        "#     'objective': 'binary',\n",
        "#     'metric': 'auc',\n",
        "#     'is_unbalance': 'true',\n",
        "#     'boosting': 'gbdt',\n",
        "#     'verbose': 0\n",
        "# }"
      ],
      "execution_count": 0,
      "outputs": []
    },
    {
      "cell_type": "code",
      "metadata": {
        "id": "WP-0-ZJpygIE",
        "colab_type": "code",
        "colab": {}
      },
      "source": [
        "#Running a stacked model on the 3 base models and making final predications\n",
        "lr_model=LogisticRegression()\n",
        "lr_model.fit(X=stack[[\"model1\",\"model2\",\"model3\",\"model4\",\"model5\"]],y=stack.is_pass) \n",
        "stack_test[\"is_pass\"]=lr_model.predict_proba(X=stack_test[[\"model1\",\"model2\",\"model3\",\"model4\",\"model5\"]])[:,1]\n",
        "stack_test[[\"id\",\"is_pass\"]].to_csv(\"sub_stacked_updated_5models72.csv\", index=False)"
      ],
      "execution_count": 0,
      "outputs": []
    },
    {
      "cell_type": "code",
      "metadata": {
        "id": "5EZcg3H0VPhT",
        "colab_type": "code",
        "colab": {}
      },
      "source": [
        "# score in lb: 0.8368729349\n",
        "# with 10 fold score is 0.83358966816\n",
        "# stacking with lgbm scores 0.832344998\n",
        "# with custom catbbost 0.836128879447\n",
        "# 4 models stacking give me best score 0.83735928\n",
        "# 5 models stacking decreased dcore to 0.8371855479"
      ],
      "execution_count": 0,
      "outputs": []
    }
  ]
}